{
 "cells": [
  {
   "cell_type": "code",
   "execution_count": 1,
   "id": "3fb8165f-c56e-4048-9a2b-d2e28d243be2",
   "metadata": {
    "tags": []
   },
   "outputs": [],
   "source": [
    "import pandas as pd\n",
    "from sklearn.model_selection import train_test_split\n",
    "from imblearn.under_sampling import RandomUnderSampler\n",
    "from xgboost import XGBClassifier\n",
    "from sklearn.metrics import classification_report, confusion_matrix\n",
    "import numpy as np\n",
    "from sklearn.preprocessing import LabelEncoder, OneHotEncoder\n",
    "from sklearn.compose import ColumnTransformer\n",
    "\n"
   ]
  },
  {
   "cell_type": "code",
   "execution_count": 2,
   "id": "bbcbc4bc-7903-46dc-ba17-9a4e8ee2e7ff",
   "metadata": {
    "tags": []
   },
   "outputs": [],
   "source": [
    "complaints = pd.read_csv('shared/complaints_25Nov21.csv')  # Replace 'complaints.csv' with your dataset filename\n"
   ]
  },
  {
   "cell_type": "code",
   "execution_count": 3,
   "id": "36d483c3-2fa6-4769-865f-c6b7953c9abe",
   "metadata": {
    "tags": []
   },
   "outputs": [],
   "source": [
    "selected_features = ['Product', 'Sub-product', 'Issue', 'State', 'Tags', 'Submitted via',\n",
    "                     'Company response to consumer', 'Timely response?']\n",
    "X = complaints[selected_features]\n",
    "y = complaints['Consumer disputed?']\n",
    "label_encoder = LabelEncoder()\n",
    "y = label_encoder.fit_transform(y)\n"
   ]
  },
  {
   "cell_type": "code",
   "execution_count": 5,
   "id": "adc51355-61f6-4645-bb3d-5094f14c060e",
   "metadata": {
    "tags": []
   },
   "outputs": [],
   "source": [
    "X_train, X_test, y_train, y_test = train_test_split(X, y, test_size=0.2, random_state=123)\n",
    "\n"
   ]
  },
  {
   "cell_type": "code",
   "execution_count": 6,
   "id": "6d65aa25-4ac1-4730-94fd-a6b59e60c87b",
   "metadata": {
    "tags": []
   },
   "outputs": [],
   "source": [
    "proportion_disputed = np.sum(y_train) / len(y_train)\n",
    "if proportion_disputed < 0.30:\n",
    "    undersampler = RandomUnderSampler(random_state=123)\n",
    "    X_train, y_train = undersampler.fit_resample(X_train, y_train)\n",
    "\n"
   ]
  },
  {
   "cell_type": "code",
   "execution_count": null,
   "id": "76756d4c-d931-4a7b-983f-0f3fca1ed8db",
   "metadata": {},
   "outputs": [],
   "source": []
  },
  {
   "cell_type": "code",
   "execution_count": 7,
   "id": "76a7dfb4-df90-481b-9da3-d7cefb602c29",
   "metadata": {
    "tags": []
   },
   "outputs": [
    {
     "data": {
      "text/html": [
       "<style>#sk-container-id-1 {color: black;}#sk-container-id-1 pre{padding: 0;}#sk-container-id-1 div.sk-toggleable {background-color: white;}#sk-container-id-1 label.sk-toggleable__label {cursor: pointer;display: block;width: 100%;margin-bottom: 0;padding: 0.3em;box-sizing: border-box;text-align: center;}#sk-container-id-1 label.sk-toggleable__label-arrow:before {content: \"▸\";float: left;margin-right: 0.25em;color: #696969;}#sk-container-id-1 label.sk-toggleable__label-arrow:hover:before {color: black;}#sk-container-id-1 div.sk-estimator:hover label.sk-toggleable__label-arrow:before {color: black;}#sk-container-id-1 div.sk-toggleable__content {max-height: 0;max-width: 0;overflow: hidden;text-align: left;background-color: #f0f8ff;}#sk-container-id-1 div.sk-toggleable__content pre {margin: 0.2em;color: black;border-radius: 0.25em;background-color: #f0f8ff;}#sk-container-id-1 input.sk-toggleable__control:checked~div.sk-toggleable__content {max-height: 200px;max-width: 100%;overflow: auto;}#sk-container-id-1 input.sk-toggleable__control:checked~label.sk-toggleable__label-arrow:before {content: \"▾\";}#sk-container-id-1 div.sk-estimator input.sk-toggleable__control:checked~label.sk-toggleable__label {background-color: #d4ebff;}#sk-container-id-1 div.sk-label input.sk-toggleable__control:checked~label.sk-toggleable__label {background-color: #d4ebff;}#sk-container-id-1 input.sk-hidden--visually {border: 0;clip: rect(1px 1px 1px 1px);clip: rect(1px, 1px, 1px, 1px);height: 1px;margin: -1px;overflow: hidden;padding: 0;position: absolute;width: 1px;}#sk-container-id-1 div.sk-estimator {font-family: monospace;background-color: #f0f8ff;border: 1px dotted black;border-radius: 0.25em;box-sizing: border-box;margin-bottom: 0.5em;}#sk-container-id-1 div.sk-estimator:hover {background-color: #d4ebff;}#sk-container-id-1 div.sk-parallel-item::after {content: \"\";width: 100%;border-bottom: 1px solid gray;flex-grow: 1;}#sk-container-id-1 div.sk-label:hover label.sk-toggleable__label {background-color: #d4ebff;}#sk-container-id-1 div.sk-serial::before {content: \"\";position: absolute;border-left: 1px solid gray;box-sizing: border-box;top: 0;bottom: 0;left: 50%;z-index: 0;}#sk-container-id-1 div.sk-serial {display: flex;flex-direction: column;align-items: center;background-color: white;padding-right: 0.2em;padding-left: 0.2em;position: relative;}#sk-container-id-1 div.sk-item {position: relative;z-index: 1;}#sk-container-id-1 div.sk-parallel {display: flex;align-items: stretch;justify-content: center;background-color: white;position: relative;}#sk-container-id-1 div.sk-item::before, #sk-container-id-1 div.sk-parallel-item::before {content: \"\";position: absolute;border-left: 1px solid gray;box-sizing: border-box;top: 0;bottom: 0;left: 50%;z-index: -1;}#sk-container-id-1 div.sk-parallel-item {display: flex;flex-direction: column;z-index: 1;position: relative;background-color: white;}#sk-container-id-1 div.sk-parallel-item:first-child::after {align-self: flex-end;width: 50%;}#sk-container-id-1 div.sk-parallel-item:last-child::after {align-self: flex-start;width: 50%;}#sk-container-id-1 div.sk-parallel-item:only-child::after {width: 0;}#sk-container-id-1 div.sk-dashed-wrapped {border: 1px dashed gray;margin: 0 0.4em 0.5em 0.4em;box-sizing: border-box;padding-bottom: 0.4em;background-color: white;}#sk-container-id-1 div.sk-label label {font-family: monospace;font-weight: bold;display: inline-block;line-height: 1.2em;}#sk-container-id-1 div.sk-label-container {text-align: center;}#sk-container-id-1 div.sk-container {/* jupyter's `normalize.less` sets `[hidden] { display: none; }` but bootstrap.min.css set `[hidden] { display: none !important; }` so we also need the `!important` here to be able to override the default hidden behavior on the sphinx rendered scikit-learn.org. See: https://github.com/scikit-learn/scikit-learn/issues/21755 */display: inline-block !important;position: relative;}#sk-container-id-1 div.sk-text-repr-fallback {display: none;}</style><div id=\"sk-container-id-1\" class=\"sk-top-container\"><div class=\"sk-text-repr-fallback\"><pre>XGBClassifier(base_score=None, booster=None, callbacks=None,\n",
       "              colsample_bylevel=None, colsample_bynode=None,\n",
       "              colsample_bytree=None, early_stopping_rounds=None,\n",
       "              enable_categorical=False, eval_metric=None, feature_types=None,\n",
       "              gamma=None, gpu_id=None, grow_policy=None, importance_type=None,\n",
       "              interaction_constraints=None, learning_rate=None, max_bin=None,\n",
       "              max_cat_threshold=None, max_cat_to_onehot=None,\n",
       "              max_delta_step=None, max_depth=None, max_leaves=None,\n",
       "              min_child_weight=None, missing=nan, monotone_constraints=None,\n",
       "              n_estimators=100, n_jobs=None, num_parallel_tree=None,\n",
       "              predictor=None, random_state=123, ...)</pre><b>In a Jupyter environment, please rerun this cell to show the HTML representation or trust the notebook. <br />On GitHub, the HTML representation is unable to render, please try loading this page with nbviewer.org.</b></div><div class=\"sk-container\" hidden><div class=\"sk-item\"><div class=\"sk-estimator sk-toggleable\"><input class=\"sk-toggleable__control sk-hidden--visually\" id=\"sk-estimator-id-1\" type=\"checkbox\" checked><label for=\"sk-estimator-id-1\" class=\"sk-toggleable__label sk-toggleable__label-arrow\">XGBClassifier</label><div class=\"sk-toggleable__content\"><pre>XGBClassifier(base_score=None, booster=None, callbacks=None,\n",
       "              colsample_bylevel=None, colsample_bynode=None,\n",
       "              colsample_bytree=None, early_stopping_rounds=None,\n",
       "              enable_categorical=False, eval_metric=None, feature_types=None,\n",
       "              gamma=None, gpu_id=None, grow_policy=None, importance_type=None,\n",
       "              interaction_constraints=None, learning_rate=None, max_bin=None,\n",
       "              max_cat_threshold=None, max_cat_to_onehot=None,\n",
       "              max_delta_step=None, max_depth=None, max_leaves=None,\n",
       "              min_child_weight=None, missing=nan, monotone_constraints=None,\n",
       "              n_estimators=100, n_jobs=None, num_parallel_tree=None,\n",
       "              predictor=None, random_state=123, ...)</pre></div></div></div></div></div>"
      ],
      "text/plain": [
       "XGBClassifier(base_score=None, booster=None, callbacks=None,\n",
       "              colsample_bylevel=None, colsample_bynode=None,\n",
       "              colsample_bytree=None, early_stopping_rounds=None,\n",
       "              enable_categorical=False, eval_metric=None, feature_types=None,\n",
       "              gamma=None, gpu_id=None, grow_policy=None, importance_type=None,\n",
       "              interaction_constraints=None, learning_rate=None, max_bin=None,\n",
       "              max_cat_threshold=None, max_cat_to_onehot=None,\n",
       "              max_delta_step=None, max_depth=None, max_leaves=None,\n",
       "              min_child_weight=None, missing=nan, monotone_constraints=None,\n",
       "              n_estimators=100, n_jobs=None, num_parallel_tree=None,\n",
       "              predictor=None, random_state=123, ...)"
      ]
     },
     "execution_count": 7,
     "metadata": {},
     "output_type": "execute_result"
    }
   ],
   "source": [
    "model_xgb = XGBClassifier(random_state=123)\n",
    "model_xgb.fit(X_train, y_train)\n",
    "\n"
   ]
  },
  {
   "cell_type": "code",
   "execution_count": 8,
   "id": "36ef4bd8-266d-4a56-b99f-bd43ce949687",
   "metadata": {
    "tags": []
   },
   "outputs": [],
   "source": [
    "y_pred = model_xgb.predict(X_test)\n",
    "report = classification_report(y_test, y_pred)\n",
    "conf_matrix = confusion_matrix(y_test, y_pred)\n",
    "\n"
   ]
  },
  {
   "cell_type": "code",
   "execution_count": 13,
   "id": "ed952c08-8b12-4a84-8c98-2a10affdcffb",
   "metadata": {
    "tags": []
   },
   "outputs": [
    {
     "name": "stdout",
     "output_type": "stream",
     "text": [
      "              precision    recall  f1-score   support\n",
      "\n",
      "           0       0.84      0.53      0.65     32504\n",
      "           1       0.27      0.63      0.38      8948\n",
      "\n",
      "    accuracy                           0.55     41452\n",
      "   macro avg       0.55      0.58      0.51     41452\n",
      "weighted avg       0.72      0.55      0.59     41452\n",
      "\n",
      "[[17128 15376]\n",
      " [ 3302  5646]]\n"
     ]
    }
   ],
   "source": [
    "print(report)\n",
    "print(conf_matrix)"
   ]
  },
  {
   "cell_type": "code",
   "execution_count": 15,
   "id": "044e54f1-67c3-48be-897c-b65fad29a64b",
   "metadata": {
    "tags": []
   },
   "outputs": [
    {
     "name": "stdout",
     "output_type": "stream",
     "text": [
      "0.5\n"
     ]
    }
   ],
   "source": [
    "proportion_disputed_after_undersampling = np.sum(y_train) / len(y_train)\n",
    "print(proportion_disputed_after_undersampling)"
   ]
  },
  {
   "cell_type": "code",
   "execution_count": 14,
   "id": "5171aaec-036a-4821-828d-8e8e290167f0",
   "metadata": {
    "tags": []
   },
   "outputs": [
    {
     "name": "stdout",
     "output_type": "stream",
     "text": [
      "0.21586413200810575\n"
     ]
    }
   ],
   "source": [
    "proportion_disputed_in_test_set = np.sum(y_test) / len(y_test)\n",
    "print(proportion_disputed_in_test_set)"
   ]
  },
  {
   "cell_type": "code",
   "execution_count": 17,
   "id": "9bc1b9af-0776-443b-a4d2-867ffbfc5883",
   "metadata": {
    "tags": []
   },
   "outputs": [
    {
     "name": "stdout",
     "output_type": "stream",
     "text": [
      "Proportion of consumers who raised a dispute in the training dataset after undersampling: 0.5\n"
     ]
    }
   ],
   "source": [
    "proportion_disputed_after_undersampling = np.sum(y_train) / len(y_train)\n",
    "\n",
    "print(\"Proportion of consumers who raised a dispute in the training dataset after undersampling:\", proportion_disputed_after_undersampling)"
   ]
  },
  {
   "cell_type": "code",
   "execution_count": 19,
   "id": "8cb92e0d-43bb-4136-8b6c-5029a5675386",
   "metadata": {
    "tags": []
   },
   "outputs": [
    {
     "name": "stdout",
     "output_type": "stream",
     "text": [
      "Recall for 'Consumer disputed?' = 'Yes' on the test set: 0.6309789897183729\n"
     ]
    }
   ],
   "source": [
    "from sklearn.metrics import recall_score\n",
    "\n",
    "# Encode 'Yes' as '1' using the label encoder\n",
    "y_test_labels = label_encoder.transform(['Yes'])\n",
    "\n",
    "# Predict on the test set\n",
    "y_pred = model_xgb.predict(X_test)\n",
    "\n",
    "# Calculate the recall for 'Consumer disputed?' = 'Yes'\n",
    "recall = recall_score(y_test, y_pred, pos_label=y_test_labels[0])  # Extract the label (1) from the array\n",
    "\n",
    "print(\"Recall for 'Consumer disputed?' = 'Yes' on the test set:\", recall)"
   ]
  },
  {
   "cell_type": "code",
   "execution_count": 22,
   "id": "64465119-750c-4d8d-9b83-32c7b6c85f25",
   "metadata": {
    "tags": []
   },
   "outputs": [],
   "source": [
    "def calculate_total_cost(y_true, y_pred):\n",
    "    # Define your cost values\n",
    "    cost_false_positive = 100  # Cost for false positives\n",
    "    cost_false_negative = 500  # Cost for false negatives\n",
    "\n",
    "    # Calculate the number of false positives and false negatives\n",
    "    false_positives = np.sum((y_true == 0) & (y_pred == 1))\n",
    "    false_negatives = np.sum((y_true == 1) & (y_pred == 0))\n",
    "\n",
    "    # Calculate the total cost\n",
    "    total_cost = (false_positives * cost_false_positive) + (false_negatives * cost_false_negative)\n",
    "\n",
    "    return total_cost"
   ]
  },
  {
   "cell_type": "code",
   "execution_count": 23,
   "id": "9a778555-5c0a-4e36-88e5-13a6c7150732",
   "metadata": {
    "tags": []
   },
   "outputs": [
    {
     "name": "stdout",
     "output_type": "stream",
     "text": [
      "Total cost to the banks based on model results: 1891980\n"
     ]
    }
   ],
   "source": [
    "y_pred = model_xgb.predict(X_test)\n",
    "\n",
    "# Calculate the total cost based on model predictions\n",
    "extra_diligence_cost = 90  # Cost of extra diligence per complaint\n",
    "dispute_cost = 600  # Cost of a dispute\n",
    "\n",
    "# Find the indices of positive predictions (model predicts 'Yes')\n",
    "positive_indices = np.where(y_pred == 1)[0]\n",
    "\n",
    "# Calculate the total cost based on the number of positive predictions and the extra diligence cost\n",
    "total_cost = len(positive_indices) * extra_diligence_cost\n",
    "\n",
    "print(\"Total cost to the banks based on model results:\", total_cost)"
   ]
  },
  {
   "cell_type": "code",
   "execution_count": 25,
   "id": "c3d13047-2715-4bf2-b4a1-9296277c24a9",
   "metadata": {
    "tags": []
   },
   "outputs": [
    {
     "name": "stdout",
     "output_type": "stream",
     "text": [
      "Total cost to the banks based on model results: 1891980\n"
     ]
    }
   ],
   "source": [
    "y_pred = model_xgb.predict(X_test)\n",
    "\n",
    "# Define the costs\n",
    "extra_diligence_cost = 90  # Cost of extra diligence per complaint\n",
    "dispute_cost = 600  # Cost of a dispute\n",
    "\n",
    "# Initialize the total cost\n",
    "total_cost = 0\n",
    "\n",
    "# Loop through the test set and calculate the total cost\n",
    "for i in range(len(y_pred)):\n",
    "    if y_pred[i] == 1:\n",
    "        # Model predicts 'Yes': Perform extra diligence\n",
    "        total_cost += extra_diligence_cost\n",
    "    else:\n",
    "        # Model predicts 'No': No extra cost incurred\n",
    "        pass\n",
    "\n",
    "print(\"Total cost to the banks based on model results:\", total_cost)"
   ]
  },
  {
   "cell_type": "code",
   "execution_count": 28,
   "id": "eb294323-2d30-4c7d-8d8d-fb6928ff6772",
   "metadata": {
    "tags": []
   },
   "outputs": [
    {
     "name": "stdout",
     "output_type": "stream",
     "text": [
      "Best Threshold: 0.34\n",
      "Lowest Total Cost: 2795430\n"
     ]
    }
   ],
   "source": [
    "import numpy as np\n",
    "\n",
    "# Create an array of threshold values\n",
    "thresholds = np.arange(0, 1.01, 0.01)\n",
    "\n",
    "# Initialize variables to keep track of the best threshold and lowest cost\n",
    "best_threshold = 0\n",
    "lowest_cost = float('inf')\n",
    "\n",
    "# Define the costs\n",
    "extra_diligence_cost = 90  # Cost of extra diligence per complaint\n",
    "dispute_cost = 600  # Cost of a dispute\n",
    "\n",
    "# Loop through thresholds and calculate costs\n",
    "for threshold in thresholds:\n",
    "    # Classify based on the current threshold\n",
    "    y_pred_threshold = (model_xgb.predict_proba(X_test)[:, 1] >= threshold).astype(int)\n",
    "    \n",
    "    # Calculate the number of false positives and false negatives\n",
    "    false_positives = np.sum((y_test == 0) & (y_pred_threshold == 1))\n",
    "    false_negatives = np.sum((y_test == 1) & (y_pred_threshold == 0))\n",
    "    \n",
    "    # Calculate the total cost for this threshold\n",
    "    total_cost = (false_positives * extra_diligence_cost) + (false_negatives * dispute_cost)\n",
    "    \n",
    "    # Update if the cost is lower\n",
    "    if total_cost < lowest_cost:\n",
    "        lowest_cost = total_cost\n",
    "        best_threshold = threshold\n",
    "\n",
    "print(\"Best Threshold:\", best_threshold)\n",
    "print(\"Lowest Total Cost:\", lowest_cost)"
   ]
  },
  {
   "cell_type": "code",
   "execution_count": 29,
   "id": "b3c7c251-dda5-4540-9584-e7343fda947d",
   "metadata": {
    "tags": []
   },
   "outputs": [
    {
     "name": "stdout",
     "output_type": "stream",
     "text": [
      "Best Threshold: 0.34\n",
      "Lowest Total Cost: 2795430\n"
     ]
    }
   ],
   "source": [
    "import numpy as np\n",
    "\n",
    "# Create an array of threshold values\n",
    "thresholds = np.arange(0, 1.01, 0.01)\n",
    "\n",
    "# Initialize variables to keep track of the best threshold and lowest cost\n",
    "best_threshold = 0\n",
    "lowest_cost = float('inf')\n",
    "\n",
    "# Define the costs\n",
    "extra_diligence_cost = 90  # Cost of extra diligence per complaint\n",
    "dispute_cost = 600  # Cost of a dispute\n",
    "\n",
    "# Loop through thresholds and calculate costs\n",
    "for threshold in thresholds:\n",
    "    # Classify based on the current threshold\n",
    "    y_pred_threshold = (model_xgb.predict_proba(X_test)[:, 1] >= threshold).astype(int)\n",
    "    \n",
    "    # Calculate the number of false positives and false negatives\n",
    "    false_positives = np.sum((y_test == 0) & (y_pred_threshold == 1))\n",
    "    false_negatives = np.sum((y_test == 1) & (y_pred_threshold == 0))\n",
    "    \n",
    "    # Calculate the total cost for this threshold\n",
    "    total_cost = (false_positives * extra_diligence_cost) + (false_negatives * dispute_cost)\n",
    "    \n",
    "    # Update if the cost is lower\n",
    "    if total_cost < lowest_cost:\n",
    "        lowest_cost = total_cost\n",
    "        best_threshold = threshold\n",
    "\n",
    "print(\"Best Threshold:\", best_threshold)\n",
    "print(\"Lowest Total Cost:\", lowest_cost)"
   ]
  },
  {
   "cell_type": "code",
   "execution_count": 30,
   "id": "6c5b66c4-eab6-4d4b-a8af-d5f50feb2eaa",
   "metadata": {
    "tags": []
   },
   "outputs": [
    {
     "name": "stdout",
     "output_type": "stream",
     "text": [
      "Best Threshold: 0.34\n",
      "Lowest Total Cost: 2795430\n"
     ]
    }
   ],
   "source": [
    "import numpy as np\n",
    "\n",
    "# Create an array of threshold values\n",
    "thresholds = np.arange(0, 1.01, 0.01)\n",
    "\n",
    "# Define the costs\n",
    "extra_diligence_cost = 90  # Cost of extra diligence per complaint\n",
    "dispute_cost = 600  # Cost of a dispute\n",
    "\n",
    "# Initialize variables to keep track of the best threshold and lowest cost\n",
    "best_threshold = 0\n",
    "lowest_cost = float('inf')\n",
    "\n",
    "# Loop through thresholds and calculate costs\n",
    "for threshold in thresholds:\n",
    "    # Classify based on the current threshold\n",
    "    y_pred_threshold = (model_xgb.predict_proba(X_test)[:, 1] >= threshold).astype(int)\n",
    "    \n",
    "    # Calculate the number of false positives and false negatives\n",
    "    false_positives = np.sum((y_test == 0) & (y_pred_threshold == 1))\n",
    "    false_negatives = np.sum((y_test == 1) & (y_pred_threshold == 0))\n",
    "    \n",
    "    # Calculate the total cost for this threshold\n",
    "    total_cost = (false_positives * extra_diligence_cost) + (false_negatives * dispute_cost)\n",
    "    \n",
    "    # Update if the cost is lower\n",
    "    if total_cost < lowest_cost:\n",
    "        lowest_cost = total_cost\n",
    "        best_threshold = threshold\n",
    "\n",
    "print(\"Best Threshold:\", best_threshold)\n",
    "print(\"Lowest Total Cost:\", lowest_cost)"
   ]
  },
  {
   "cell_type": "code",
   "execution_count": null,
   "id": "336a0d2a-4ae9-4ea8-94a6-9b55a08a57aa",
   "metadata": {},
   "outputs": [],
   "source": []
  }
 ],
 "metadata": {
  "kernelspec": {
   "display_name": "Python [conda env:mggy8413]",
   "language": "python",
   "name": "conda-env-mggy8413-py"
  },
  "language_info": {
   "codemirror_mode": {
    "name": "ipython",
    "version": 3
   },
   "file_extension": ".py",
   "mimetype": "text/x-python",
   "name": "python",
   "nbconvert_exporter": "python",
   "pygments_lexer": "ipython3",
   "version": "3.10.12"
  }
 },
 "nbformat": 4,
 "nbformat_minor": 5
}
